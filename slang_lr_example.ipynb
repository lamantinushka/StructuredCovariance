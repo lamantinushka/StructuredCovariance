{
 "cells": [
  {
   "cell_type": "markdown",
   "metadata": {},
   "source": [
    "# Simple Logistic Regression"
   ]
  },
  {
   "cell_type": "markdown",
   "metadata": {},
   "source": [
    "Simple example for comparison of SLANG and Full-Gaussian VOGN models. We use australian scaled dataset. "
   ]
  },
  {
   "cell_type": "code",
   "execution_count": 3,
   "metadata": {},
   "outputs": [],
   "source": [
    "import torch\n",
    "import torch.nn as nn\n",
    "import numpy as np\n",
    "import pandas as pd\n",
    "import math\n",
    "import matplotlib.pyplot as plt\n",
    "%matplotlib inline\n",
    "device = torch.device('cpu')"
   ]
  },
  {
   "cell_type": "code",
   "execution_count": 4,
   "metadata": {},
   "outputs": [],
   "source": [
    "from slang.models import LogisticRegression, LogisticRegressionFull\n",
    "from slang.train import *"
   ]
  },
  {
   "cell_type": "markdown",
   "metadata": {},
   "source": [
    "- do_full_model: set false if you want only SLANG\n",
    "- task: you have only one option here :)\n",
    "- batch_size: \n",
    "- n_epoch: number of epochs to train\n",
    "- beta: learning rate for $\\Sigma$\n",
    "- alpha: learning rate for $\\mu$\n",
    "- lambda: precision of the prior distribution\n",
    "- rank: maximum rank of SLANG updates\n",
    "- n_iter: number of orthogonalization iterates used for fast eigenvalues algorithm\n",
    "- pow: learning rate decay for both alpha and beta\n",
    "- n_samples_train: number of w samples for gradient during training\n",
    "- n_samples_eval: number of w samples for gradient during evaluation"
   ]
  },
  {
   "cell_type": "code",
   "execution_count": 26,
   "metadata": {},
   "outputs": [],
   "source": [
    "params = {\"do_full_model\": True,\n",
    "          \"task\": \"australian\",\n",
    "          \"batch_size\": 64,\n",
    "          \"n_epoch\": 1000,\n",
    "          \"beta\": 0.01,\n",
    "          \"alpha\": 0.01,\n",
    "          \"lambda\": 1,\n",
    "          \"rank\": 5,\n",
    "          \"n_iter\": 4,\n",
    "          \"pow\": 0.2,\n",
    "          \"n_samples_train\": 12,\n",
    "          \"n_samples_eval\": 100\n",
    "         }"
   ]
  },
  {
   "cell_type": "markdown",
   "metadata": {},
   "source": [
    "Loading data:"
   ]
  },
  {
   "cell_type": "code",
   "execution_count": 27,
   "metadata": {},
   "outputs": [],
   "source": [
    "if params[\"task\"] == \"australian\":\n",
    "    src = 'data/australian_presplit/australian_scale_'\n",
    "    \n",
    "print(\"Sorry, I can do only australian for now\")\n",
    "    \n",
    "X_train = pd.read_csv(src + 'X_tr.csv', delim_whitespace=True)\n",
    "y_train = pd.read_csv(src + 'y_tr.csv', delim_whitespace=True)\n",
    "X_test = pd.read_csv(src + 'X_te.csv', delim_whitespace=True)\n",
    "y_test = pd.read_csv(src + 'y_te.csv', delim_whitespace=True)"
   ]
  },
  {
   "cell_type": "code",
   "execution_count": 28,
   "metadata": {},
   "outputs": [],
   "source": [
    "X = torch.tensor(X_train.values, dtype = torch.float)\n",
    "X = torch.cat([X, torch.ones(X.shape[0], 1, dtype = torch.float)], dim = -1)\n",
    "y = torch.tensor(y_train.values, dtype = torch.float).view(-1)\n",
    "y[y == 0] = -1\n",
    "params[\"N\"] = X.shape[0]\n",
    "    \n",
    "X_test = torch.tensor(X_test.values, dtype = torch.float)\n",
    "X_test = torch.cat([X_test, torch.ones(X.shape[0], 1, dtype = torch.float)], dim = -1)\n",
    "y_test = torch.tensor(y_test.values, dtype = torch.float).view(-1)\n",
    "y_test[y_test == 0] = -1"
   ]
  },
  {
   "cell_type": "markdown",
   "metadata": {},
   "source": [
    "Train models:"
   ]
  },
  {
   "cell_type": "code",
   "execution_count": 29,
   "metadata": {},
   "outputs": [],
   "source": [
    "model = LogisticRegression(X.shape[1], max_rank = params[\"rank\"])\n",
    "loss, test_nll = train(model, X, y, params, X_test, y_test)\n",
    "covar = model.U @ model.U.t() + torch.diag(model.d)\n",
    "final_nll = model.nll_loss(X_test, y_test, \n",
    "                           require_grads = False, \n",
    "                           n_samples = 2000).item()\n",
    "    \n",
    "if params[\"do_full_model\"]:\n",
    "    full_model = LogisticRegressionFull(X.shape[1])\n",
    "    loss_f, test_nll_f = train(full_model, X, y, params, X_test, y_test)\n",
    "    covar_f = torch.inverse(full_model.Sigma)\n",
    "    final_nll_f = full_model.nll_loss(X_test, y_test, \n",
    "                                      require_grads = False, \n",
    "                                      n_samples = 2000).item()"
   ]
  },
  {
   "cell_type": "markdown",
   "metadata": {},
   "source": [
    "Let's look at the final test negative log-likelihood"
   ]
  },
  {
   "cell_type": "code",
   "execution_count": 30,
   "metadata": {},
   "outputs": [
    {
     "name": "stdout",
     "output_type": "stream",
     "text": [
      "SLANG-5 test NLL:0.422284334897995\n",
      "Full-Gaussian test NLL:0.37969428300857544\n"
     ]
    }
   ],
   "source": [
    "print(\"SLANG-{} test NLL:{}\".format(params[\"rank\"], final_nll))\n",
    "if params[\"do_full_model\"]:\n",
    "    print(\"Full-Gaussian test NLL:{}\".format(final_nll_f))"
   ]
  },
  {
   "cell_type": "markdown",
   "metadata": {},
   "source": [
    "Validation loss to check if models have converged:"
   ]
  },
  {
   "cell_type": "code",
   "execution_count": 35,
   "metadata": {
    "scrolled": true
   },
   "outputs": [
    {
     "data": {
      "text/plain": [
       "Text(0.5, 1.0, 'Test NLL')"
      ]
     },
     "execution_count": 35,
     "metadata": {},
     "output_type": "execute_result"
    },
    {
     "data": {
      "image/png": "[encoded data removed]",
      "text/plain": [
       "<Figure size 432x288 with 1 Axes>"
      ]
     },
     "metadata": {
      "needs_background": "light"
     },
     "output_type": "display_data"
    }
   ],
   "source": [
    "plt.plot(test_nll, label = \"SLANG-{}\".format(params[\"rank\"]))\n",
    "if params[\"do_full_model\"]:\n",
    "    plt.plot(test_nll_f, label = \"Full-Gaussian\")\n",
    "plt.legend()\n",
    "plt.xlabel('epoch')\n",
    "plt.title(\"Test NLL\")"
   ]
  },
  {
   "cell_type": "markdown",
   "metadata": {},
   "source": [
    "And inverse covariance matrix that we found:"
   ]
  },
  {
   "cell_type": "code",
   "execution_count": 32,
   "metadata": {},
   "outputs": [
    {
     "data": {
      "image/png": "[encoded data removed]",
      "text/plain": [
       "<Figure size 720x360 with 3 Axes>"
      ]
     },
     "metadata": {
      "needs_background": "light"
     },
     "output_type": "display_data"
    }
   ],
   "source": [
    "if params[\"do_full_model\"]:\n",
    "    fig, axes = plt.subplots(ncols=2, figsize=(10, 5))\n",
    "    titles = [\"SLANG-{}\".format(params[\"rank\"]), \"Full-Gaussian\"]\n",
    "    covars = [covar, covar_f]\n",
    "    for i, ax in enumerate(axes.flat):\n",
    "        im = ax.imshow(covars[i].detach()[:X.shape[1] - 1, :X.shape[1] - 1])\n",
    "        ax.set_title(titles[i])\n",
    "\n",
    "    fig.colorbar(im, ax=axes.ravel().tolist())\n",
    "    plt.show()\n",
    "\n",
    "else:\n",
    "    plt.imshow(covar[:X.shape[1] - 1, :X.shape[1] - 1])\n",
    "    plt.colorbar()\n",
    "    plt.show()"
   ]
  }
 ],
 "metadata": {
  "kernelspec": {
   "display_name": "Python 3",
   "language": "python",
   "name": "python3"
  },
  "language_info": {
   "codemirror_mode": {
    "name": "ipython",
    "version": 3
   },
   "file_extension": ".py",
   "mimetype": "text/x-python",
   "name": "python",
   "nbconvert_exporter": "python",
   "pygments_lexer": "ipython3",
   "version": "3.6.8"
  }
 },
 "nbformat": 4,
 "nbformat_minor": 2
}
