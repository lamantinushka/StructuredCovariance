{
  "nbformat": 4,
  "nbformat_minor": 0,
  "metadata": {
    "colab": {
      "name": "UQ.ipynb",
      "provenance": [],
      "include_colab_link": true
    },
    "kernelspec": {
      "name": "python3",
      "display_name": "Python 3"
    },
    "accelerator": "GPU"
  },
  "cells": [
    {
      "cell_type": "markdown",
      "metadata": {
        "id": "view-in-github",
        "colab_type": "text"
      },
      "source": [
        "<a href=\"https://colab.research.google.com/github/lamantinushka/StructuredCovariance/blob/master/UQ.ipynb\" target=\"_parent\"><img src=\"https://colab.research.google.com/assets/colab-badge.svg\" alt=\"Open In Colab\"/></a>"
      ]
    },
    {
      "cell_type": "markdown",
      "metadata": {
        "id": "tOFH5tdkDrpF",
        "colab_type": "text"
      },
      "source": [
        "# SWAG for Uncertainty Quantification"
      ]
    },
    {
      "cell_type": "code",
      "metadata": {
        "id": "aFJK4B8VnxqI",
        "colab_type": "code",
        "colab": {}
      },
      "source": [
        "import torch\n",
        "import torch.nn as nn\n",
        "import numpy as np\n",
        "import pandas as pd\n",
        "import math\n",
        "import matplotlib.pyplot as plt\n",
        "%matplotlib inline\n",
        "torch.manual_seed(0)\n",
        "np.random.seed(0)\n",
        "device = torch.device('cuda')"
      ],
      "execution_count": 0,
      "outputs": []
    },
    {
      "cell_type": "markdown",
      "metadata": {
        "id": "UpSYs-UTDz5Z",
        "colab_type": "text"
      },
      "source": [
        "We define our model to be Bayesian from the beggining, do tha after SWAG training it was able to work both in MAP and Baeyesian modes"
      ]
    },
    {
      "cell_type": "code",
      "metadata": {
        "id": "8pOoYWzKBfwW",
        "colab_type": "code",
        "colab": {}
      },
      "source": [
        "class MNISTBnn(nn.Module):\n",
        "  \n",
        "    def __init__(self, hidden_size = 400, max_rank = 8):\n",
        "        super(MNISTBnn, self).__init__()\n",
        "        inp_dim = 784\n",
        "        self.max_rank = max_rank\n",
        "        self.out_dim = 10\n",
        "        self.shapes = [(inp_dim + 1, hidden_size), \n",
        "                       (hidden_size + 1, hidden_size),\n",
        "                       (hidden_size + 1, self.out_dim)]\n",
        "        self.sizes = [sh[0]*sh[1] for sh in self.shapes]\n",
        "        \n",
        "        self.W1 = torch.randn(*self.shapes[0])\n",
        "        self.W2 = torch.randn(*self.shapes[1])\n",
        "        self.W3 = torch.randn(*self.shapes[2])\n",
        "        \n",
        "        size = sum(self.sizes)\n",
        "        \n",
        "        self.mu = torch.nn.Parameter(torch.randn(size))\n",
        "        self.U = torch.nn.Parameter(torch.randn(size, max_rank))\n",
        "        self.d = torch.nn.Parameter(torch.ones(size))\n",
        "        self.w = None\n",
        "        self.frozen = False\n",
        "        \n",
        "    def _freeze(self):\n",
        "        self.frozen = True\n",
        "        \n",
        "    def _defrost(self):\n",
        "        self.frozen = False\n",
        "        \n",
        "    def forward(self, x, sample = False):\n",
        "        if sample:\n",
        "            self.sample()\n",
        "            z = torch.cat([x, torch.ones(x.shape[0], 1, device = x.device, dtype = torch.float)], \n",
        "                      dim = -1) @ self.W1\n",
        "            z = torch.cat([torch.relu(z), torch.ones(z.shape[0], 1, device = x.device, dtype = torch.float)], \n",
        "                      dim = -1) @ self.W2\n",
        "            logits = torch.cat([torch.relu(z), torch.ones(z.shape[0], 1, device = x.device, dtype = torch.float)], \n",
        "                           dim = -1) @ self.W3\n",
        "            return logits\n",
        "\n",
        "        W1 = self.mu[:self.sizes[0]].view(*self.shapes[0])\n",
        "        W2 = self.mu[self.sizes[0]:-self.sizes[2]].view(*self.shapes[1])\n",
        "        W3 = self.mu[-self.sizes[2]:].view(*self.shapes[2])\n",
        "        \n",
        "        z = torch.cat([x, torch.ones(x.shape[0], 1, device = x.device, dtype = torch.float)], \n",
        "                      dim = -1) @ W1\n",
        "        z = torch.cat([torch.relu(z), torch.ones(z.shape[0], 1, device = x.device, dtype = torch.float)], \n",
        "                      dim = -1) @ W2\n",
        "        logits = torch.cat([torch.relu(z), torch.ones(z.shape[0], 1, device = x.device, dtype = torch.float)], \n",
        "                           dim = -1) @ W3\n",
        "        return logits\n",
        "         \n",
        "      \n",
        "    def sample(self):\n",
        "        if self.frozen:\n",
        "            pass\n",
        "        else:\n",
        "            k = 1/(math.sqrt(2*(self.max_rank - 1)))\n",
        "            non_diag = k*self.U @ torch.randn(self.max_rank, device = device)\n",
        "            diag = (1/math.sqrt(2))*torch.sqrt(self.d) * torch.randn_like(self.d, device = device)\n",
        "            w = self.mu + diag + non_diag\n",
        "            self.W1 = w[:self.sizes[0]].view(*self.shapes[0])\n",
        "            self.W2 = w[self.sizes[0]:-self.sizes[2]].view(*self.shapes[1])\n",
        "            self.W3 = w[-self.sizes[2]:].view(*self.shapes[2])\n",
        "          \n",
        "    def nll_loss(self, x, y, n_samples = 4):\n",
        "        \"\"\" \n",
        "        x - tensor [batch_size x feature_size]\n",
        "        y - one-hot-encoded tensor [batch_size x n_classes]\n",
        "        \"\"\"\n",
        "        preds = torch.zeros(n_samples, x.shape[0], self.out_dim).to(device)\n",
        "        criterion = nn.NLLLoss()\n",
        "        for i in range(n_samples):\n",
        "            w = self.sample()\n",
        "            logits = self(x, sample = True)\n",
        "            preds[i] = logits.log_softmax(-1)\n",
        "        log_probs = preds.mean(0) \n",
        "        nll = criterion(log_probs, y.to(device))\n",
        "        return nll"
      ],
      "execution_count": 0,
      "outputs": []
    },
    {
      "cell_type": "markdown",
      "metadata": {
        "id": "oQoMgCiLETG4",
        "colab_type": "text"
      },
      "source": [
        "Pre-training procedure:"
      ]
    },
    {
      "cell_type": "code",
      "metadata": {
        "id": "aNl3Wo8bBnnv",
        "colab_type": "code",
        "colab": {}
      },
      "source": [
        "def sample_batch(X, y, batch_size):\n",
        "    idxes = np.random.choice(len(y), size = batch_size, replace=False) \n",
        "    return X[idxes], y[idxes]\n",
        "\n",
        "def train_simple_mnist(model, X, y, params):\n",
        "    loss = []\n",
        "    batch_size = params[\"batch_size\"]\n",
        "    n_batches = (X.shape[0] + batch_size - 1)//batch_size \n",
        "    optimizer = torch.optim.Adam(model.parameters(), lr = params[\"lr\"])\n",
        "    criterion = nn.CrossEntropyLoss()\n",
        "    for epoch in range(params[\"n_epoch\"]):\n",
        "        idxes = np.arange(X.shape[0])\n",
        "        np.random.shuffle(idxes)\n",
        "        for i in range(n_batches):\n",
        "            idx_batch = idxes[i*batch_size: (1+i)*batch_size]\n",
        "            x_batch, y_batch = X[idx_batch], y[idx_batch]\n",
        "            x_batch = x_batch.to(device)\n",
        "            y_batch = y_batch.to(device)\n",
        "            logits = model(x_batch, sample = False)\n",
        "            nll = criterion(logits, y_batch)\n",
        "            nll.backward()\n",
        "            optimizer.step()\n",
        "            loss.append(nll.item())\n",
        "        \n",
        "    return loss"
      ],
      "execution_count": 0,
      "outputs": []
    },
    {
      "cell_type": "markdown",
      "metadata": {
        "id": "DWDG4avKEXC-",
        "colab_type": "text"
      },
      "source": [
        "SWAG training code. We start from pre-trained model, then run SGD for sufficiently long time to approximate moments, and finally use last L $\\theta_i - \\bar\\theta$ vectors to approximate nondiagonal component of $\\Sigma$"
      ]
    },
    {
      "cell_type": "code",
      "metadata": {
        "id": "1BvxlhUoBnqT",
        "colab_type": "code",
        "colab": {}
      },
      "source": [
        "def run_swag_mnist(model, X, y, params):\n",
        "    loss = []\n",
        "    first_moment = model.mu\n",
        "    second_moment = model.mu**2\n",
        "    U = torch.zeros(model.mu.shape[0], model.max_rank)\n",
        "    optimizer = torch.optim.SGD(model.parameters(), lr = params[\"lr_swag\"])\n",
        "    criterion = nn.CrossEntropyLoss()\n",
        "    N = 1\n",
        "    C = params[\"C\"]\n",
        "    for i in range(1, C*params[\"n_steps_swag\"] + 1):\n",
        "        x_batch, y_batch = sample_batch(X, y, params[\"batch_size\"])\n",
        "        x_batch = x_batch.to(device)\n",
        "        y_batch = y_batch.to(device)\n",
        "        logits = model(x_batch, sample = False)\n",
        "        nll = criterion(logits, y_batch)\n",
        "        nll.backward()\n",
        "        optimizer.step()\n",
        "        if i % C == 0:\n",
        "            first_moment = (first_moment*N + model.mu)/(N+1)\n",
        "            second_moment = (second_moment*N + model.mu**2)/(N+1)\n",
        "            N += 1\n",
        "            loss.append(nll.item())\n",
        "    U = torch.zeros_like(model.U, device = device)\n",
        "    for i in range(1, C*model.max_rank + 1):\n",
        "        x_batch, y_batch = sample_batch(X, y, params[\"batch_size\"])\n",
        "        x_batch = x_batch.to(device)\n",
        "        y_batch = y_batch.to(device)\n",
        "        logits = model(x_batch, sample = False)\n",
        "        nll = criterion(logits, y_batch)\n",
        "        nll.backward()\n",
        "        optimizer.step()\n",
        "        if i % C == 0:\n",
        "            first_moment = (first_moment*N + model.mu)/(N+1)\n",
        "            second_moment = (second_moment*N + model.mu**2)/(N+1)\n",
        "            U[:, i//C - 1] = model.mu - first_moment\n",
        "            N += 1\n",
        "            loss.append(nll.item())\n",
        "    d = second_moment - first_moment**2\n",
        "    return first_moment, U, d, loss"
      ],
      "execution_count": 0,
      "outputs": []
    },
    {
      "cell_type": "markdown",
      "metadata": {
        "id": "Vn5En7-ZE8uR",
        "colab_type": "text"
      },
      "source": [
        "Loading data:"
      ]
    },
    {
      "cell_type": "code",
      "metadata": {
        "id": "hPTvKsI4Bnsu",
        "colab_type": "code",
        "colab": {}
      },
      "source": [
        "X_train, Y_train = torch.load('data/MNIST/processed/training.pt')\n",
        "X_test, Y_test = torch.load('data/MNIST/processed/test.pt')\n",
        "\n",
        "\n",
        "X_train = X_train.view(-1, 784)\n",
        "X_test = X_test.view(-1, 784)\n",
        "X_train = (X_train - X_train.float().mean()) / X_train.float().std()\n",
        "X_test = (X_test - X_test.float().mean()) / X_test.float().std()\n",
        "\n",
        "Y_train_ohe = torch.zeros(len(X_train), 10)\n",
        "Y_train_ohe[np.arange(len(Y_train)), Y_train] = 1\n",
        "Y_test_ohe = torch.zeros(len(X_test), 10)\n",
        "Y_test_ohe[np.arange(len(Y_test)), Y_test] = 1\n",
        "\n",
        "N = X_train.shape[0]"
      ],
      "execution_count": 0,
      "outputs": []
    },
    {
      "cell_type": "code",
      "metadata": {
        "id": "TSrEsLSIBnu-",
        "colab_type": "code",
        "colab": {}
      },
      "source": [
        "params = {\"task\": \"australian\",\n",
        "          \"batch_size\": 128,\n",
        "          \"n_epoch\": 100,\n",
        "          \"lr\": 1e-5,\n",
        "          \"rank\": 20,\n",
        "          \"C\": 100,\n",
        "          \"n_steps_swag\": 1000,\n",
        "          \"lr_swag\": 3*1e-9\n",
        "         }"
      ],
      "execution_count": 0,
      "outputs": []
    },
    {
      "cell_type": "markdown",
      "metadata": {
        "id": "jA7jrX_OLXjB",
        "colab_type": "text"
      },
      "source": [
        "Training (or loading pretrained model)"
      ]
    },
    {
      "cell_type": "code",
      "metadata": {
        "id": "p5wHInTYBnxr",
        "colab_type": "code",
        "colab": {}
      },
      "source": [
        "model = MNISTBnn().to(device)\n",
        "#model.load_state_dict(torch.load('mnist_model'))\n",
        "\n",
        "#loss = train_simple_mnist(model, X_train, Y_train, params)\n",
        "#torch.save(model.state_dict(), 'mnist_model')\n",
        "#plt.plot(loss)"
      ],
      "execution_count": 0,
      "outputs": []
    },
    {
      "cell_type": "markdown",
      "metadata": {
        "id": "9FjoUzkuLcKV",
        "colab_type": "text"
      },
      "source": [
        "Function to compute NLL on test set"
      ]
    },
    {
      "cell_type": "code",
      "metadata": {
        "id": "AGnK_RVMBn0D",
        "colab_type": "code",
        "colab": {}
      },
      "source": [
        "def compute_nll(model, X, y, swag = False):\n",
        "    S = 0.\n",
        "    L = 0.\n",
        "    criterion = nn.CrossEntropyLoss()\n",
        "    for i in range(X.shape[0]//100):\n",
        "        x_batch = X[i*100: (i+1)*100].to(device)\n",
        "        y_batch = y[i*100: (i+1)*100].to(device)\n",
        "        l = x_batch.shape[0]\n",
        "        if swag:\n",
        "            S += model.nll_loss(x_batch, y_batch, n_samples = 20)*l\n",
        "        else:\n",
        "            logits = model(x_batch)\n",
        "            S += criterion(logits, y_batch)*l\n",
        "        L += l\n",
        "    return S/L  "
      ],
      "execution_count": 0,
      "outputs": []
    },
    {
      "cell_type": "code",
      "metadata": {
        "id": "t8pQT-UJScin",
        "colab_type": "code",
        "outputId": "60cf53a3-00b8-4f24-eeb1-40ede60ff470",
        "colab": {
          "base_uri": "https://localhost:8080/",
          "height": 34
        }
      },
      "source": [
        "compute_nll(model, X_test, Y_test)"
      ],
      "execution_count": 0,
      "outputs": [
        {
          "output_type": "execute_result",
          "data": {
            "text/plain": [
              "tensor(22.6494, device='cuda:0', grad_fn=<DivBackward0>)"
            ]
          },
          "metadata": {
            "tags": []
          },
          "execution_count": 10
        }
      ]
    },
    {
      "cell_type": "markdown",
      "metadata": {
        "id": "rWtqawJaLzOf",
        "colab_type": "text"
      },
      "source": [
        "Run SWAG procedure. We clamp d as it should be positive semidefinite, and due to stochasticity it can has small negative values that are crucial for the sampling procedure"
      ]
    },
    {
      "cell_type": "code",
      "metadata": {
        "id": "suCgckDlSiUG",
        "colab_type": "code",
        "outputId": "70f29982-600e-4de1-fca9-7dbd1d56741a",
        "colab": {
          "base_uri": "https://localhost:8080/",
          "height": 286
        }
      },
      "source": [
        "mu, U, d, loss = run_swag_mnist(model, X_train, Y_train, params)\n",
        "model.mu = nn.Parameter(mu)\n",
        "model.U = nn.Parameter(U)\n",
        "model.d = nn.Parameter(d.clamp_min(0))\n",
        "\n",
        "plt.plot(loss)"
      ],
      "execution_count": 0,
      "outputs": [
        {
          "output_type": "execute_result",
          "data": {
            "text/plain": [
              "[<matplotlib.lines.Line2D at 0x7f707ad274a8>]"
            ]
          },
          "metadata": {
            "tags": []
          },
          "execution_count": 11
        },
        {
          "output_type": "display_data",
          "data": {
            "image/png": "[encoded data removed]",
            "text/plain": [
              "<Figure size 432x288 with 1 Axes>"
            ]
          },
          "metadata": {
            "tags": []
          }
        }
      ]
    },
    {
      "cell_type": "code",
      "metadata": {
        "id": "lRODHIFhVt6e",
        "colab_type": "code",
        "colab": {}
      },
      "source": [
        "#torch.save(model.state_dict(), 'mnist_model_swag')\n",
        "model.load_state_dict(torch.load('mnist_model_swag'))"
      ],
      "execution_count": 0,
      "outputs": []
    },
    {
      "cell_type": "markdown",
      "metadata": {
        "id": "WyM0xxI4MEyp",
        "colab_type": "text"
      },
      "source": [
        "And compute NLL again:"
      ]
    },
    {
      "cell_type": "code",
      "metadata": {
        "id": "jLXsQyOPSxnT",
        "colab_type": "code",
        "outputId": "36b541da-068d-4ee4-ac6b-12bb73808f49",
        "colab": {
          "base_uri": "https://localhost:8080/",
          "height": 34
        }
      },
      "source": [
        "compute_nll(model, X_test, Y_test, swag = True)"
      ],
      "execution_count": 0,
      "outputs": [
        {
          "output_type": "execute_result",
          "data": {
            "text/plain": [
              "tensor(24.7715, device='cuda:0', grad_fn=<DivBackward0>)"
            ]
          },
          "metadata": {
            "tags": []
          },
          "execution_count": 10
        }
      ]
    },
    {
      "cell_type": "markdown",
      "metadata": {
        "id": "S6L5AEdTMH-x",
        "colab_type": "text"
      },
      "source": [
        "We can see that NLL did not improve in this case, but let's look at the uncertainty"
      ]
    },
    {
      "cell_type": "code",
      "metadata": {
        "id": "R2bCLcPHIbXB",
        "colab_type": "code",
        "colab": {}
      },
      "source": [
        "def compute_uncertainty(model, X, n_samples):\n",
        "    preds = torch.zeros(n_samples, X.shape[0], 10)\n",
        "    for i in range(n_samples):\n",
        "        logits = model(X, sample = True).softmax(-1)\n",
        "        preds[i] = logits.cpu()\n",
        "    return preds.std(0).sum(-1)"
      ],
      "execution_count": 0,
      "outputs": []
    },
    {
      "cell_type": "markdown",
      "metadata": {
        "id": "brtmDVLYMVTH",
        "colab_type": "text"
      },
      "source": [
        "We use 4 different sets of points to estimate mean uncertainty.\n",
        "- True 2000 points from test data\n",
        "- Sum of pairs of different points from test set\n",
        "- Random noice with aplitude 2.5\n",
        "- Samples restored from the grid in the latent space by VAE"
      ]
    },
    {
      "cell_type": "markdown",
      "metadata": {
        "id": "StpQbD7yM20d",
        "colab_type": "text"
      },
      "source": [
        "True points:"
      ]
    },
    {
      "cell_type": "code",
      "metadata": {
        "id": "SYBDM1F-JRxc",
        "colab_type": "code",
        "outputId": "4316e09f-6edc-49af-e254-f43e7f84496a",
        "colab": {
          "base_uri": "https://localhost:8080/",
          "height": 34
        }
      },
      "source": [
        "X0 = X_test[:2000].to(device)\n",
        "unc0 = compute_uncertainty(model, X0, 200)\n",
        "unc0.mean()"
      ],
      "execution_count": 0,
      "outputs": [
        {
          "output_type": "execute_result",
          "data": {
            "text/plain": [
              "tensor(0.1852, grad_fn=<MeanBackward0>)"
            ]
          },
          "metadata": {
            "tags": []
          },
          "execution_count": 16
        }
      ]
    },
    {
      "cell_type": "markdown",
      "metadata": {
        "id": "_e4tL07pM5aH",
        "colab_type": "text"
      },
      "source": [
        "Sum of points:"
      ]
    },
    {
      "cell_type": "code",
      "metadata": {
        "id": "zAY4Z-c6KDEY",
        "colab_type": "code",
        "outputId": "0877ba47-547f-4fa1-cf2c-f4b7b0b80552",
        "colab": {
          "base_uri": "https://localhost:8080/",
          "height": 34
        }
      },
      "source": [
        "X1 = X_test[:1000].to(device) + X_test[1000:2000].to(device)\n",
        "unc1 = compute_uncertainty(model, X1, 200)\n",
        "unc1.mean()"
      ],
      "execution_count": 0,
      "outputs": [
        {
          "output_type": "execute_result",
          "data": {
            "text/plain": [
              "tensor(0.7688, grad_fn=<MeanBackward0>)"
            ]
          },
          "metadata": {
            "tags": []
          },
          "execution_count": 13
        }
      ]
    },
    {
      "cell_type": "markdown",
      "metadata": {
        "id": "wub_c4gAM-Li",
        "colab_type": "text"
      },
      "source": [
        "Random noise:"
      ]
    },
    {
      "cell_type": "code",
      "metadata": {
        "id": "WyDCWC24KT9d",
        "colab_type": "code",
        "outputId": "21ad1654-2fce-4b33-f85e-efc58108d08b",
        "colab": {
          "base_uri": "https://localhost:8080/",
          "height": 34
        }
      },
      "source": [
        "X2 = 5*(torch.rand(1000, 784) - 1).to(device)\n",
        "unc2 = compute_uncertainty(model, X2, 200)\n",
        "unc2.mean()"
      ],
      "execution_count": 0,
      "outputs": [
        {
          "output_type": "execute_result",
          "data": {
            "text/plain": [
              "tensor(0.4633, grad_fn=<MeanBackward0>)"
            ]
          },
          "metadata": {
            "tags": []
          },
          "execution_count": 14
        }
      ]
    },
    {
      "cell_type": "markdown",
      "metadata": {
        "id": "_tORZttPNCTM",
        "colab_type": "text"
      },
      "source": [
        "Here we train simple VAE model to generate samples for Uncertainty Quantification"
      ]
    },
    {
      "cell_type": "markdown",
      "metadata": {
        "id": "ApC22Sa8nOZa",
        "colab_type": "text"
      },
      "source": [
        "VAE code is taken from https://github.com/pytorch/examples/blob/master/vae/main.py"
      ]
    },
    {
      "cell_type": "code",
      "metadata": {
        "id": "EhoAheUWb6rf",
        "colab_type": "code",
        "colab": {}
      },
      "source": [
        "class VAE(nn.Module):\n",
        "    def __init__(self):\n",
        "        super(VAE, self).__init__()\n",
        "\n",
        "        self.fc1 = nn.Linear(784, 400)\n",
        "        self.fc21 = nn.Linear(400, 50)\n",
        "        self.fc31 = nn.Linear(50, 2)\n",
        "        self.fc32 = nn.Linear(50, 2)\n",
        "        self.fc3 = nn.Linear(2, 50)\n",
        "        self.fc5 = nn.Linear(50, 400)\n",
        "        self.fc4 = nn.Linear(400, 784)\n",
        "\n",
        "    def encode(self, x):\n",
        "        h1 = torch.relu(self.fc21(torch.relu(self.fc1(x))))\n",
        "        return self.fc31(h1), self.fc32(h1)\n",
        "\n",
        "    def reparameterize(self, mu, logvar):\n",
        "        std = torch.exp(0.5*logvar)\n",
        "        eps = torch.randn_like(std)\n",
        "        return mu + eps*std\n",
        "\n",
        "    def decode(self, z):\n",
        "        h3 = torch.relu(self.fc5(torch.relu(self.fc3(z))))\n",
        "        return torch.sigmoid(self.fc4(h3))\n",
        "\n",
        "    def forward(self, x):\n",
        "        mu, logvar = self.encode(x.view(-1, 784))\n",
        "        z = self.reparameterize(mu, logvar)\n",
        "        return self.decode(z), mu, logvar"
      ],
      "execution_count": 0,
      "outputs": []
    },
    {
      "cell_type": "code",
      "metadata": {
        "id": "Jw4HvxAbRdf2",
        "colab_type": "code",
        "colab": {}
      },
      "source": [
        "def train_load(X, Y):\n",
        "    batch_size = 128\n",
        "    n_batches =X.shape[0]//batch_size\n",
        "    idxes = np.arange(X.shape[0])\n",
        "    np.random.shuffle(idxes)\n",
        "    for i in range(n_batches):\n",
        "        idx_batch = idxes[i*batch_size: (1+i)*batch_size]\n",
        "        x_batch, y_batch = X[idx_batch], Y[idx_batch]\n",
        "        yield x_batch.to(device), y_batch.to(device)\n",
        "        \n",
        "vae = VAE().to(device)\n",
        "optimizer = torch.optim.Adam(vae.parameters(), lr=1e-3)\n",
        "\n",
        "\n",
        "# Reconstruction + KL divergence losses summed over all elements and batch\n",
        "def loss_function(recon_x, x, mu, logvar):\n",
        "    BCE = torch.nn.functional.binary_cross_entropy(recon_x, x.view(-1, 784), reduction='sum')\n",
        "\n",
        "    # see Appendix B from VAE paper:\n",
        "    # Kingma and Welling. Auto-Encoding Variational Bayes. ICLR, 2014\n",
        "    # https://arxiv.org/abs/1312.6114\n",
        "    # 0.5 * sum(1 + log(sigma^2) - mu^2 - sigma^2)\n",
        "    KLD = -0.5 * torch.sum(1 + logvar - mu.pow(2) - logvar.exp())\n",
        "\n",
        "    return BCE + KLD\n",
        "\n",
        "\n",
        "def train(epoch):\n",
        "    vae.train()\n",
        "    train_loss = 0\n",
        "    train_loader = train_load(X_train, Y_train)\n",
        "    for batch_idx, (data, _) in enumerate(train_loader):\n",
        "        data = data.to(device)\n",
        "        optimizer.zero_grad()\n",
        "        recon_batch, mu, logvar = vae(data)\n",
        "        loss = loss_function(recon_batch, data, mu, logvar)\n",
        "        loss.backward()\n",
        "        train_loss += loss.item()\n",
        "        optimizer.step()\n",
        "        if batch_idx % 100 == 0:\n",
        "            print('Train Epoch: {} [{}/{} ({:.0f}%)]\\tLoss: {:.6f}'.format(\n",
        "                epoch, batch_idx * len(data), 60000,\n",
        "                100. * batch_idx / 468,\n",
        "                loss.item() / len(data)))\n",
        "\n",
        "    print('====> Epoch: {} Average loss: {:.4f}'.format(\n",
        "          epoch, train_loss / 60000))\n",
        "    \n",
        "for epoch in range(1, 21):\n",
        "    train(epoch)"
      ],
      "execution_count": 0,
      "outputs": []
    },
    {
      "cell_type": "code",
      "metadata": {
        "id": "dqbNBS1Gq7cY",
        "colab_type": "code",
        "colab": {}
      },
      "source": [
        "torch.save(vae.state_dict(), 'simple_vae')"
      ],
      "execution_count": 0,
      "outputs": []
    },
    {
      "cell_type": "code",
      "metadata": {
        "id": "0Y5iU1rFhmFM",
        "colab_type": "code",
        "outputId": "b1ea2c2b-4a49-4407-d5e9-7829192a6f50",
        "colab": {
          "base_uri": "https://localhost:8080/",
          "height": 34
        }
      },
      "source": [
        "vae = VAE().to(device)\n",
        "vae.load_state_dict(torch.load('simple_vae.dms'))"
      ],
      "execution_count": 0,
      "outputs": [
        {
          "output_type": "execute_result",
          "data": {
            "text/plain": [
              "<All keys matched successfully>"
            ]
          },
          "metadata": {
            "tags": []
          },
          "execution_count": 70
        }
      ]
    },
    {
      "cell_type": "markdown",
      "metadata": {
        "id": "JYrBjzbCNOFb",
        "colab_type": "text"
      },
      "source": [
        "Check if model restores data:"
      ]
    },
    {
      "cell_type": "code",
      "metadata": {
        "id": "6gt_y6Axoep9",
        "colab_type": "code",
        "outputId": "aa06828a-e7b8-436f-c1a5-bd05a3932c34",
        "colab": {
          "base_uri": "https://localhost:8080/",
          "height": 148
        }
      },
      "source": [
        "x = X_train[:5].to(device)\n",
        "fig, axis = plt.subplots(ncols = 5, figsize = (10, 2))\n",
        "for i in range(5):\n",
        "    axis[i].imshow(x[i].cpu().detach().view(28, 28))"
      ],
      "execution_count": 0,
      "outputs": [
        {
          "output_type": "display_data",
          "data": {
            "image/png": "[encoded data removed]",
            "text/plain": [
              "<Figure size 720x144 with 5 Axes>"
            ]
          },
          "metadata": {
            "tags": []
          }
        }
      ]
    },
    {
      "cell_type": "code",
      "metadata": {
        "id": "ZDij-J-UpC7N",
        "colab_type": "code",
        "outputId": "d43a3330-6eee-4043-dc9d-9acfbf3bda7e",
        "colab": {
          "base_uri": "https://localhost:8080/",
          "height": 148
        }
      },
      "source": [
        "y = vae.decode(vae.encode(x)[0])\n",
        "fig, axis = plt.subplots(ncols = 5, figsize = (10, 2))\n",
        "for i in range(5):\n",
        "    axis[i].imshow(y[i].cpu().detach().view(28, 28))"
      ],
      "execution_count": 0,
      "outputs": [
        {
          "output_type": "display_data",
          "data": {
            "image/png": "[encoded data removed]",
            "text/plain": [
              "<Figure size 720x144 with 5 Axes>"
            ]
          },
          "metadata": {
            "tags": []
          }
        }
      ]
    },
    {
      "cell_type": "markdown",
      "metadata": {
        "id": "kcC9TcQWNTfs",
        "colab_type": "text"
      },
      "source": [
        "Let's look at the distribution in the latent space:"
      ]
    },
    {
      "cell_type": "code",
      "metadata": {
        "id": "z5NZuWA0phbN",
        "colab_type": "code",
        "outputId": "52b268bb-e140-4562-bb2b-7bc03050ec03",
        "colab": {
          "base_uri": "https://localhost:8080/",
          "height": 286
        }
      },
      "source": [
        "test = X_test[:1000].to(device)\n",
        "labels = Y_test[:1000]\n",
        "vecs = vae.encode(test)[0]\n",
        "vecs = vecs.cpu().detach().numpy()\n",
        "plt.scatter(vecs[:, 0], vecs[:, 1], c = labels.numpy())"
      ],
      "execution_count": 0,
      "outputs": [
        {
          "output_type": "execute_result",
          "data": {
            "text/plain": [
              "<matplotlib.collections.PathCollection at 0x7f0238c610f0>"
            ]
          },
          "metadata": {
            "tags": []
          },
          "execution_count": 38
        },
        {
          "output_type": "display_data",
          "data": {
            "image/png": "[encoded data removed]",
            "text/plain": [
              "<Figure size 432x288 with 1 Axes>"
            ]
          },
          "metadata": {
            "tags": []
          }
        }
      ]
    },
    {
      "cell_type": "markdown",
      "metadata": {
        "id": "Ne5ihkvDNaky",
        "colab_type": "text"
      },
      "source": [
        "Create and decode uniformal examples in latent space:"
      ]
    },
    {
      "cell_type": "code",
      "metadata": {
        "id": "cvZqK0VTunA9",
        "colab_type": "code",
        "colab": {}
      },
      "source": [
        "A = np.meshgrid(np.linspace(-20, 20, 35), np.linspace(-20, 20, 35))\n",
        "z = torch.cat([torch.FloatTensor(A[0]).view(1, 35, 35), torch.FloatTensor(A[1]).view(1, 35, 35)], dim = 0).view(2, -1).t()"
      ],
      "execution_count": 0,
      "outputs": []
    },
    {
      "cell_type": "markdown",
      "metadata": {
        "id": "QHmohgB3NozM",
        "colab_type": "text"
      },
      "source": [
        "Compute uncertainty:"
      ]
    },
    {
      "cell_type": "code",
      "metadata": {
        "id": "hcTCgVrQ8SkA",
        "colab_type": "code",
        "outputId": "08b6a35e-1a93-49bf-886f-c111661b4d28",
        "colab": {
          "base_uri": "https://localhost:8080/",
          "height": 34
        }
      },
      "source": [
        "imgs = vae.decode(z.to(device))\n",
        "unc3 = compute_uncertainty(model, imgs, 200)\n",
        "unc3.mean()"
      ],
      "execution_count": 0,
      "outputs": [
        {
          "output_type": "execute_result",
          "data": {
            "text/plain": [
              "tensor(0.3751, grad_fn=<MeanBackward0>)"
            ]
          },
          "metadata": {
            "tags": []
          },
          "execution_count": 42
        }
      ]
    },
    {
      "cell_type": "markdown",
      "metadata": {
        "id": "Qp_oCPPJNrNi",
        "colab_type": "text"
      },
      "source": [
        "And finally let's look at the uncertainty distribution in the latent space:"
      ]
    },
    {
      "cell_type": "code",
      "metadata": {
        "id": "mH-q7DP99UXV",
        "colab_type": "code",
        "outputId": "293baaa8-d052-4be1-9a11-a8d003ae015b",
        "colab": {
          "base_uri": "https://localhost:8080/",
          "height": 306
        }
      },
      "source": [
        "fig, axis = plt.subplots(ncols = 3, figsize = (16, 4))\n",
        "im = axis[0].imshow(unc3.view(35, 35).cpu().detach(), extent=[-20,20,-20,20], cmap = 'Greys')\n",
        "im = axis[1].imshow(unc3.view(35, 35).cpu().detach(), extent=[-20,20,-20,20], cmap = 'Greys')\n",
        "axis[1].scatter(vecs[:, 0], vecs[:, 1], c = labels.numpy())\n",
        "axis[2].scatter(vecs[:, 0], vecs[:, 1], c = labels.numpy())\n",
        "fig.colorbar(im, ax = axis[1])"
      ],
      "execution_count": 0,
      "outputs": [
        {
          "output_type": "execute_result",
          "data": {
            "text/plain": [
              "<matplotlib.colorbar.Colorbar at 0x7f02346c1940>"
            ]
          },
          "metadata": {
            "tags": []
          },
          "execution_count": 69
        },
        {
          "output_type": "display_data",
          "data": {
            "image/png": "[encoded data removed]",
            "text/plain": [
              "<Figure size 1152x288 with 4 Axes>"
            ]
          },
          "metadata": {
            "tags": []
          }
        }
      ]
    }
  ]
}